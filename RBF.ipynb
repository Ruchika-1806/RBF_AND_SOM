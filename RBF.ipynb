{
 "cells": [
  {
   "cell_type": "markdown",
   "metadata": {},
   "source": [
    "## Problem 3"
   ]
  },
  {
   "cell_type": "code",
   "execution_count": 1,
   "metadata": {},
   "outputs": [],
   "source": [
    "# Importing Libraries\n",
    "import random\n",
    "import numpy as np\n",
    "import math\n",
    "import matplotlib.pyplot as plt\n",
    "from sklearn.cluster import KMeans"
   ]
  },
  {
   "cell_type": "code",
   "execution_count": 2,
   "metadata": {},
   "outputs": [],
   "source": [
    "# Defining data splitting function\n",
    "def dataSplit(data, split_at):\n",
    "    np.random.shuffle(data)\n",
    "    return data[:split_at,:] , data[split_at:,:]"
   ]
  },
  {
   "cell_type": "code",
   "execution_count": 3,
   "metadata": {},
   "outputs": [],
   "source": [
    "# Creating the dataset as per the given conditions \n",
    "input_arr = []\n",
    "for i in range(21):\n",
    "    for j in range(21):\n",
    "        x=-2+0.2*i\n",
    "        y=-2+0.2*j\n",
    "        input_arr.append([x,y])\n",
    "input_np_array=np.array(input_arr)\n",
    "\n",
    "# Randomly shuffling the dataset\n",
    "random.shuffle(input_np_array)\n",
    "\n",
    "# Splitting the dataset in train and test sets\n",
    "train_count = round(input_np_array.shape[0]*0.8)\n",
    "X_train , X_test = dataSplit(input_np_array, train_count)\n",
    "\n",
    "# Creating the result array for the training set based on the given mapping function\n",
    "output_arr=[]\n",
    "for point in X_train:\n",
    "    func=point[0]*point[0]+point[1]*point[1]\n",
    "    if func<=1:\n",
    "        output_arr.append(1)\n",
    "    else:\n",
    "        output_arr.append(-1)\n",
    "        \n",
    "y_train = np.array(output_arr)\n",
    "\n",
    "# Creating the result array for the testing set based on the given mapping function\n",
    "output_arr_test=[]\n",
    "for point in X_test:\n",
    "    func=point[0]*point[0]+point[1]*point[1]\n",
    "    if func<=1:\n",
    "        output_arr_test.append(1)\n",
    "    else:\n",
    "        output_arr_test.append(-1)\n",
    "        \n",
    "y_test = np.array(output_arr_test)"
   ]
  },
  {
   "cell_type": "markdown",
   "metadata": {},
   "source": [
    "#### Functions"
   ]
  },
  {
   "cell_type": "code",
   "execution_count": 4,
   "metadata": {},
   "outputs": [],
   "source": [
    "# This function will be used to get initial random weights.\n",
    "def get_weights(center_shape):\n",
    "    randomlist = []\n",
    "    for i in range(center_shape):\n",
    "        n = random.random()\n",
    "        randomlist.append(n)\n",
    "    return randomlist\n",
    "\n",
    "# This function will be used to get random centers.\n",
    "def random_centers(X_train, number_of_centers):\n",
    "    number_of_rows = X_train.shape[0]\n",
    "    random_indices = np.random.choice(number_of_rows, size=number_of_centers, replace=False)\n",
    "    random_rows = X_train[random_indices, :]\n",
    "    return random_rows\n",
    "\n",
    "# This function will calculate the testing accuracy between expected and obtained values\n",
    "def accuracy(y_true, y_pred):\n",
    "    if not (len(y_true) == len(y_pred)):\n",
    "        print('Size of predicted and true labels not equal.')\n",
    "        return 0.0\n",
    "\n",
    "    corr = 0\n",
    "    for i in range(0,len(y_true)):\n",
    "        corr += 1 if (y_true[i] == y_pred[i]).all() else 0\n",
    "\n",
    "    return corr/len(y_true)\n",
    "\n",
    "# This function will predict the outputs for the testing set and return the accuracy \n",
    "def predict_accuracy(X_test,y_test, rbf1):\n",
    "    y_predict=[]\n",
    "    for row in X_test:\n",
    "        test_result=rbf1.predict(row)\n",
    "        y_predict.append(test_result)\n",
    "    acc = accuracy(np.array(y_predict), y_test)\n",
    "    return acc"
   ]
  },
  {
   "cell_type": "markdown",
   "metadata": {},
   "source": [
    "#### Radial Basis Function Implementation"
   ]
  },
  {
   "cell_type": "code",
   "execution_count": 5,
   "metadata": {},
   "outputs": [],
   "source": [
    "# Defining the class to store all the parameters and functions\n",
    "class RBFNetwork:\n",
    "    def __init__(self, lr, weights, bias, centers, sigma, epochs):\n",
    "        \n",
    "        # Learning Rate\n",
    "        self.lr = lr\n",
    "        \n",
    "        # Weights\n",
    "        self.w=weights\n",
    "        \n",
    "        # Bias\n",
    "        self.b = bias\n",
    "        \n",
    "        # Centers\n",
    "        self.centers = centers\n",
    "        \n",
    "        # Spread Parameter\n",
    "        self.s = sigma\n",
    "        \n",
    "        # No.of training iterations\n",
    "        self.epochs = epochs\n",
    "        \n",
    "        # Sum of mean error\n",
    "        self.total_loss = 0.0\n",
    "        \n",
    "        \n",
    "    # Gaussian RBF function\n",
    "    # r is eucledian distance between input and the center of the neuron\n",
    "    def rbf(self, r):\n",
    "        v = -np.power(r,2)/(2*self.s*self.s)\n",
    "        value1 = np.exp(v)\n",
    "        return value1\n",
    "    \n",
    "    # This function will return the distance between the input and center of the neuron \n",
    "    def euclidean_distance(self,X_train,ci):\n",
    "        return np.linalg.norm(X_train-ci)\n",
    "\n",
    "    # Calculate activations of RBFs\n",
    "    def activate(self,X_train,c):\n",
    "        G = []\n",
    "        for ci in c:\n",
    "            r=self.euclidean_distance(X_train,ci)\n",
    "            G.append(self.rbf(r))\n",
    "        return G\n",
    "    \n",
    "    # This function is the main Driver function which will train the network and update the parameters\n",
    "    def RBF(self, X_train, y_train):\n",
    "        for epoch in range(self.epochs):\n",
    "            output_errors=[]\n",
    "            mean_error=0.0\n",
    "            \n",
    "            # Forward Pass\n",
    "            for i in range(X_train.shape[0]):\n",
    "                a = np.array(self.activate(X_train[i],self.centers))\n",
    "                F1 = np.dot(a,self.w) + self.b\n",
    "                \n",
    "                # Obtained output\n",
    "                F = np.sign(F1)\n",
    "                \n",
    "                # Calculating error and mean square error\n",
    "                error = y_train[i]-F\n",
    "                mean_error = mean_error+np.power(error, 2)\n",
    "                \n",
    "                # Updating weights and bias based on the calculated error\n",
    "                for h in range(self.centers.shape[0]):\n",
    "                    delta_weight = self.lr * error * a[h]\n",
    "                    self.w[h] =self.w[h] + delta_weight\n",
    "                self.b = self.b+ self.lr*error\n",
    "            \n",
    "            # Adding the mean error for each epoch\n",
    "            self.total_loss += mean_error\n",
    "    \n",
    "    # This function will return the average loss\n",
    "    def avg_loss(self):\n",
    "        return self.total_loss/self.epochs\n",
    "    \n",
    "    # Making a prediction for input forward.\n",
    "    def predict(self,X_train):\n",
    "            a = np.array(self.activate(X_train, self.centers))\n",
    "            F1 = np.dot(a,self.w) + self.b\n",
    "            return np.sign(F1)"
   ]
  },
  {
   "cell_type": "markdown",
   "metadata": {},
   "source": [
    "#### Initializing parameters"
   ]
  },
  {
   "cell_type": "code",
   "execution_count": 6,
   "metadata": {},
   "outputs": [],
   "source": [
    "# Values of spread parameter\n",
    "s_values =[1,2,3,5,7,10,15,20]\n",
    "\n",
    "# Value of Learning Rate\n",
    "lr = 0.01\n",
    "\n",
    "# Number of Iterations\n",
    "epochs = 1000"
   ]
  },
  {
   "cell_type": "markdown",
   "metadata": {},
   "source": [
    "#### Function to Implement, Train and Test the RBF Network"
   ]
  },
  {
   "cell_type": "code",
   "execution_count": 7,
   "metadata": {},
   "outputs": [],
   "source": [
    "def Get_Results(centers_new, w, b):\n",
    "    \n",
    "    s_result=[]\n",
    "    s_avg_loss=[]\n",
    "\n",
    "    # Looping over values of Spread Parameter\n",
    "    for k in s_values:\n",
    "\n",
    "        # Creating an object of the class\n",
    "        rbf1 = RBFNetwork(lr, w, b, centers_new, k , epochs)\n",
    "\n",
    "        # Training the Network\n",
    "        rbf1.RBF(X_train,y_train)\n",
    "\n",
    "        # Collate Testing Accuracies for different values of spread parameter\n",
    "        s_result.append(predict_accuracy(X_test,y_test, rbf1))\n",
    "\n",
    "        # Collate Average Loss for different values of spread parameter\n",
    "        s_avg_loss.append(rbf1.avg_loss())\n",
    "        \n",
    "    return (s_result, s_avg_loss)"
   ]
  },
  {
   "cell_type": "markdown",
   "metadata": {},
   "source": [
    "#### Case 1 : All inputs as Centers "
   ]
  },
  {
   "cell_type": "code",
   "execution_count": 8,
   "metadata": {
    "scrolled": false
   },
   "outputs": [
    {
     "name": "stdout",
     "output_type": "stream",
     "text": [
      "Spread Parameter:  1\n",
      "Accuracy : 1.0\n",
      "Average Loss : 3.58\n",
      "\n",
      "\n",
      "Spread Parameter:  2\n",
      "Accuracy : 0.9545454545454546\n",
      "Average Loss : 58.488\n",
      "\n",
      "\n",
      "Spread Parameter:  3\n",
      "Accuracy : 0.8295454545454546\n",
      "Average Loss : 128.56\n",
      "\n",
      "\n",
      "Spread Parameter:  5\n",
      "Accuracy : 0.7954545454545454\n",
      "Average Loss : 230.424\n",
      "\n",
      "\n",
      "Spread Parameter:  7\n",
      "Accuracy : 0.8522727272727273\n",
      "Average Loss : 287.836\n",
      "\n",
      "\n",
      "Spread Parameter:  10\n",
      "Accuracy : 0.8863636363636364\n",
      "Average Loss : 300.376\n",
      "\n",
      "\n",
      "Spread Parameter:  15\n",
      "Accuracy : 0.8522727272727273\n",
      "Average Loss : 309.224\n",
      "\n",
      "\n",
      "Spread Parameter:  20\n",
      "Accuracy : 0.8863636363636364\n",
      "Average Loss : 316.216\n",
      "\n",
      "\n"
     ]
    }
   ],
   "source": [
    "# Declare centers\n",
    "centers_all= X_train\n",
    "\n",
    "# Get initial random weights\n",
    "w_all = get_weights(centers_all.shape[0])\n",
    "\n",
    "# Initial bias\n",
    "b_all = random.random()\n",
    "\n",
    "# Arrays to store accuracies and average loss for different values of spread parameter\n",
    "s_result_all, s_avg_loss_all = Get_Results(centers_all,w_all,b_all)\n",
    "#print(s_result_all)\n",
    "\n",
    "# Printing values of Spread parameter and corresponding Accuracies and Average Loss\n",
    "for i in range(len(s_values)):    \n",
    "    print(\"Spread Parameter: \",s_values[i])\n",
    "    print(\"Accuracy :\", s_result_all[i])\n",
    "    print(\"Average Loss :\", s_avg_loss_all[i])\n",
    "    print(\"\\n\")"
   ]
  },
  {
   "cell_type": "markdown",
   "metadata": {},
   "source": [
    "##### When All inputs have been used as centers\n",
    "From the above output, it is clear that as the value of Spread Parameter increases, the average loss(Average Mean Square Error)value also increases. The Error is minimum for S=1 which is about 3.58, but gradually increases with the increase in value of spread parameter and reaches the value of 316.216 for S(Spread Parameter)=20.\n",
    "\n",
    "Also, it can be seen that, as a general trend, value of Accuracy also decreases with increase im value of S. Accuracy is maximum for S=1 and shows a decline as S increases. A point to be noted here is that, the decrease in accuracy is not consistent and the trend consists of crests and troughs, but this is because our testing set is small.\n",
    "\n",
    "In conclusion, As the value of S (Spread parameter) increases, average mean square error increases and accuracy drops.  "
   ]
  },
  {
   "cell_type": "markdown",
   "metadata": {},
   "source": [
    "#### Case 2 : Random Centers"
   ]
  },
  {
   "cell_type": "code",
   "execution_count": 9,
   "metadata": {
    "scrolled": false
   },
   "outputs": [
    {
     "name": "stdout",
     "output_type": "stream",
     "text": [
      "Spread Parameter:  1\n",
      "Accuracy : 1.0\n",
      "Average Loss : 1.588\n",
      "\n",
      "\n",
      "Spread Parameter:  2\n",
      "Accuracy : 0.9431818181818182\n",
      "Average Loss : 59.82\n",
      "\n",
      "\n",
      "Spread Parameter:  3\n",
      "Accuracy : 0.8295454545454546\n",
      "Average Loss : 126.784\n",
      "\n",
      "\n",
      "Spread Parameter:  5\n",
      "Accuracy : 0.9431818181818182\n",
      "Average Loss : 223.048\n",
      "\n",
      "\n",
      "Spread Parameter:  7\n",
      "Accuracy : 0.8636363636363636\n",
      "Average Loss : 283.584\n",
      "\n",
      "\n",
      "Spread Parameter:  10\n",
      "Accuracy : 0.8522727272727273\n",
      "Average Loss : 294.86\n",
      "\n",
      "\n",
      "Spread Parameter:  15\n",
      "Accuracy : 0.8863636363636364\n",
      "Average Loss : 310.88\n",
      "\n",
      "\n",
      "Spread Parameter:  20\n",
      "Accuracy : 0.8863636363636364\n",
      "Average Loss : 317.612\n",
      "\n",
      "\n"
     ]
    }
   ],
   "source": [
    "# Declare centers\n",
    "centers_random= random_centers(X_train, 150)\n",
    "\n",
    "# Get initial random weights\n",
    "w_random = get_weights(centers_random.shape[0])\n",
    "\n",
    "# Initial bias\n",
    "b_random = random.random()\n",
    "\n",
    "# Arrays to store accuracies and average loss for different values of spread parameter\n",
    "s_result_random, s_avg_loss_random = Get_Results(centers_random, w_random, b_random)\n",
    "\n",
    "# Printing values of Spread parameter and corresponding Accuracies and Average Loss\n",
    "for i in range(len(s_values)):    \n",
    "    print(\"Spread Parameter: \",s_values[i])\n",
    "    print(\"Accuracy :\", s_result_random[i])\n",
    "    print(\"Average Loss :\", s_avg_loss_random[i])\n",
    "    print(\"\\n\")    "
   ]
  },
  {
   "cell_type": "markdown",
   "metadata": {},
   "source": [
    "##### When 150 random inputs have been used as centers\n",
    "From the above output, it is clear that the trend is similar to the above case of \"All Centers\". As the value of S (Spread parameter) increases, average mean square error increases and accuracy drops (with some crests and troughs).\n",
    "\n",
    "The Accuracy is maximum and the mean square error is minimum for S=1."
   ]
  },
  {
   "cell_type": "markdown",
   "metadata": {},
   "source": [
    "#### Case 3 : 150 K-Means Centers"
   ]
  },
  {
   "cell_type": "code",
   "execution_count": 10,
   "metadata": {
    "scrolled": false
   },
   "outputs": [
    {
     "name": "stdout",
     "output_type": "stream",
     "text": [
      "Spread Parameter:  1\n",
      "Accuracy : 1.0\n",
      "Average Loss : 2.812\n",
      "\n",
      "\n",
      "Spread Parameter:  2\n",
      "Accuracy : 0.9431818181818182\n",
      "Average Loss : 55.9\n",
      "\n",
      "\n",
      "Spread Parameter:  3\n",
      "Accuracy : 0.9318181818181818\n",
      "Average Loss : 114.996\n",
      "\n",
      "\n",
      "Spread Parameter:  5\n",
      "Accuracy : 0.9204545454545454\n",
      "Average Loss : 224.164\n",
      "\n",
      "\n",
      "Spread Parameter:  7\n",
      "Accuracy : 0.8863636363636364\n",
      "Average Loss : 280.604\n",
      "\n",
      "\n",
      "Spread Parameter:  10\n",
      "Accuracy : 0.8522727272727273\n",
      "Average Loss : 295.928\n",
      "\n",
      "\n",
      "Spread Parameter:  15\n",
      "Accuracy : 0.8522727272727273\n",
      "Average Loss : 305.14\n",
      "\n",
      "\n",
      "Spread Parameter:  20\n",
      "Accuracy : 0.8863636363636364\n",
      "Average Loss : 311.508\n",
      "\n",
      "\n"
     ]
    }
   ],
   "source": [
    "# Declare centers\n",
    "centers_kmeans= KMeans(n_clusters=150).fit(X_train).cluster_centers_\n",
    "\n",
    "# Get initial random weights\n",
    "w_kmeans = get_weights(centers_kmeans.shape[0])\n",
    "\n",
    "# Initial bias\n",
    "b_kmeans = random.random()\n",
    "\n",
    "# Arrays to store accuracies and average loss for different values of spread parameter\n",
    "s_result_kmeans, s_avg_loss_kmeans = Get_Results(centers_kmeans, w_kmeans, b_kmeans)\n",
    "\n",
    "# Printing values of Spread parameter and corresponding Accuracies and Average Loss\n",
    "for i in range(len(s_values)):    \n",
    "    print(\"Spread Parameter: \",s_values[i])\n",
    "    print(\"Accuracy :\", s_result_kmeans[i])\n",
    "    print(\"Average Loss :\", s_avg_loss_kmeans[i])\n",
    "    print(\"\\n\") \n",
    "    "
   ]
  },
  {
   "cell_type": "markdown",
   "metadata": {},
   "source": [
    "##### When 150 inputs have been used as centers using K-Means Clustering\n",
    "From the above output, it is clear that the trend is similar to the above 2 cases of \"All Centers\". As the value of S (Spread parameter) increases, average mean square error increases and accuracy drops (with some crests and troughs).\n",
    "\n",
    "The Accuracy is maximum and the mean square error is minimum for S=1."
   ]
  },
  {
   "cell_type": "markdown",
   "metadata": {},
   "source": [
    "#### Plot between Spread Paramater and Accuracy for all 3 cases"
   ]
  },
  {
   "cell_type": "code",
   "execution_count": 11,
   "metadata": {
    "scrolled": false
   },
   "outputs": [
    {
     "data": {
      "image/png": "[encoded data removed]",
      "text/plain": [
       "<Figure size 432x288 with 1 Axes>"
      ]
     },
     "metadata": {
      "needs_background": "light"
     },
     "output_type": "display_data"
    }
   ],
   "source": [
    "plt.title('Accuracy VS Spread Parameter For all centers ') \n",
    "plt.plot(s_values,s_result_all,label=\"Accuracy VS Spread Parameter For all centers\") \n",
    "plt.plot(s_values,s_result_random,label=\"Accuracy VS Spread Parameter for random centers\") \n",
    "plt.plot(s_values,s_result_kmeans,label=\"Accuracy VS Spread Parameter for KMeans centers\") \n",
    "plt.xlabel(\"Spread parameter\") \n",
    "plt.ylabel(\"Accuray\") \n",
    "plt.legend(bbox_to_anchor=(1, 0.5), loc='upper left', ncol=1)\n",
    "plt.show()\n",
    "\n"
   ]
  },
  {
   "cell_type": "markdown",
   "metadata": {},
   "source": [
    "The above plot gives a comparison between the Accuracies (obtained for different values of S) for the 3 cases under consideration which are\n",
    "Case 1. All Inputs and Centers for RBF\n",
    "Case 2. 150 Random Inputs and Centers for RBF\n",
    "Case 3. 150 Inputs ans Centers of RBF using KMeans Clustering\n",
    "\n",
    "From the plot, we can notice that as a general trend the value of accuracy has dropped as the value of S increased. The maximum accuracy for all the 3 cases has been obtained for S=1.\n",
    "\n",
    "Case 1 - When All inputs have been used as centers, the downward trend of accuracy is not consistent, it has maxima and minima at different values of S and the Accuracy drops to minimum as S=5 and reaches a value of below 80%\n",
    "\n",
    "Case 2 - The trend in Case 2 is similar as in Case 1 which is full of highs and lows but with different values. The minimum accuracy is about 83% for S=3\n",
    "\n",
    "Case 3 - In this case, we can clearly see the consistent drop in value of Accuracy with increase in S. Also, the accuracy never drops below 85% even at high values of S."
   ]
  },
  {
   "cell_type": "markdown",
   "metadata": {},
   "source": [
    "#### Plot between Spread Parameter and Average Loss for all 3 cases"
   ]
  },
  {
   "cell_type": "code",
   "execution_count": 12,
   "metadata": {
    "scrolled": true
   },
   "outputs": [
    {
     "data": {
      "image/png": "[encoded data removed]",
      "text/plain": [
       "<Figure size 432x288 with 1 Axes>"
      ]
     },
     "metadata": {
      "needs_background": "light"
     },
     "output_type": "display_data"
    }
   ],
   "source": [
    "plt.title('Loss error VS Spread Parameter For all centers ') \n",
    "plt.plot(s_values,s_avg_loss_all,label=\"Loss error VS Spread Parameter For all centers\") \n",
    "plt.plot(s_values,s_avg_loss_random,label=\"Loss error VS Spread Parameter for random centers\") \n",
    "plt.plot(s_values,s_avg_loss_kmeans,label=\"Loss error VS Spread Parameter for KMeans centers\") \n",
    "plt.xlabel(\"Spread parameter\") \n",
    "plt.ylabel(\"Loss Error\") \n",
    "plt.legend(bbox_to_anchor=(1, 0.5), loc='upper left', ncol=1)\n",
    "plt.show()\n",
    "\n"
   ]
  },
  {
   "cell_type": "markdown",
   "metadata": {},
   "source": [
    "The above plot gives a comparison between the Average Mean Square Error or Loss (obtained for different values of S) for the 3 cases under consideration which are\n",
    "Case 1. All Inputs and Centers for RBF\n",
    "Case 2. 150 Random Inputs and Centers for RBF\n",
    "Case 3. 150 Inputs ans Centers of RBF using KMeans Clustering\n",
    "\n",
    "From the plot, we can notice that as the value of accuracy has increases, the value Loss also increased. The minimum loss for all the 3 cases has been obtained for S=1 which is below 5.\n",
    "As the value of S reaches 20, the value of Loss for all the 3 cases showed significant growth and crossed the value of 300.\n",
    "\n",
    "1. Spread parameter = 1\n",
    "\n",
    "    a. Loss in Case 1: 3.58\n",
    "    \n",
    "    b. Loss in Case 2: 1.58\n",
    "    \n",
    "    c. Loss in Case 3: 2.8\n",
    "    \n",
    "\n",
    "2. Spread parameter = 20\n",
    "\n",
    "    a. Loss in Case 1: 316.2\n",
    "\n",
    "    b. Loss in Case 2: 317.6\n",
    "\n",
    "    c. Loss in Case 3: 311.5\n",
    "\n",
    "\n"
   ]
  },
  {
   "cell_type": "markdown",
   "metadata": {},
   "source": [
    "#### References"
   ]
  },
  {
   "cell_type": "markdown",
   "metadata": {},
   "source": [
    "https://pythonmachinelearning.pro/using-neural-networks-for-regression-radial-basis-function-networks/\n",
    "http://www.rueckstiess.net/research/snippets/show/72d2363e\n",
    "https://towardsdatascience.com/radial-basis-functions-neural-networks-all-we-need-to-know-9a88cc053448"
   ]
  }
 ],
 "metadata": {
  "kernelspec": {
   "display_name": "Python 3",
   "language": "python",
   "name": "python3"
  },
  "language_info": {
   "codemirror_mode": {
    "name": "ipython",
    "version": 3
   },
   "file_extension": ".py",
   "mimetype": "text/x-python",
   "name": "python",
   "nbconvert_exporter": "python",
   "pygments_lexer": "ipython3",
   "version": "3.7.6"
  }
 },
 "nbformat": 4,
 "nbformat_minor": 4
}
